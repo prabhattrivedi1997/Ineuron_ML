{
 "cells": [
  {
   "cell_type": "markdown",
   "metadata": {},
   "source": [
    "# Python Assignment 4\n"
   ]
  },
  {
   "cell_type": "markdown",
   "metadata": {},
   "source": [
    "Question 1: Write a Python Program(with class concepts) to find the area of the triangle using the below\n",
    "formula.\n",
    "\n",
    "area = (s*(s-a)*(s-b)*(s-c))***0.5\n",
    "\n",
    "Function to take the length of the sides of triangle from user should be defined in the parent\n",
    "class and function to calculate the area should be defined in subclass.\n"
   ]
  },
  {
   "cell_type": "code",
   "execution_count": 1,
   "metadata": {},
   "outputs": [],
   "source": [
    "class length():\n",
    "    def __init__(self,a,b,c):\n",
    "        self.a=a\n",
    "        self.b=b\n",
    "        self.c=c\n",
    "class area(length):\n",
    "    def __init__(self,*args):\n",
    "        super(area, self).__init__(*args)\n",
    "        self.s=(self.a+self.b+self.c)/2\n",
    "    def ar(self):\n",
    "        self.ar=((self.s)*(self.s-self.a)*(self.s-self.b)*(self.s-self.c))**0.5\n",
    "        return self.ar       "
   ]
  },
  {
   "cell_type": "code",
   "execution_count": 2,
   "metadata": {},
   "outputs": [
    {
     "data": {
      "text/plain": [
       "3.799671038392666"
      ]
     },
     "execution_count": 2,
     "metadata": {},
     "output_type": "execute_result"
    }
   ],
   "source": [
    "l=area(2,4,5)\n",
    "l.ar()"
   ]
  },
  {
   "cell_type": "markdown",
   "metadata": {},
   "source": [
    "Question 2: Write a function filter_long_words() that takes a list of words and an integer n and returns\n",
    "the list of words that are longer than n."
   ]
  },
  {
   "cell_type": "code",
   "execution_count": 3,
   "metadata": {},
   "outputs": [
    {
     "data": {
      "text/plain": [
       "['Prabhat', 'trivedi']"
      ]
     },
     "execution_count": 3,
     "metadata": {},
     "output_type": "execute_result"
    }
   ],
   "source": [
    "def filter_long_words(lst,n):                    #Scripting\n",
    "    p=[] \n",
    "    for i in range(0,len(lst)):\n",
    "        if(len(lst[i])>n):\n",
    "            p.append(lst[i])\n",
    "    return p\n",
    "lst=[\"Prabhat\",\"kmar\",\"trivedi\"]\n",
    "filter_long_words(lst,5)"
   ]
  },
  {
   "cell_type": "code",
   "execution_count": 4,
   "metadata": {},
   "outputs": [],
   "source": [
    "class filter():                                 #OOP concept\n",
    "    def __init__(self,lst,n):\n",
    "        self.lst=lst\n",
    "        self.n=n\n",
    "    def filter_long_words(self):\n",
    "        self.p=[]\n",
    "        for i in range(0,len(self.lst)):\n",
    "            if (len(self.lst[i])>self.n):\n",
    "                self.p.append(self.lst[i])\n",
    "        return self.p"
   ]
  },
  {
   "cell_type": "code",
   "execution_count": 5,
   "metadata": {},
   "outputs": [],
   "source": [
    "a=filter(['pra',\"kumar\",\"trivedi\",\"hafsf\",\"fafh\",\"fs\"],4)"
   ]
  },
  {
   "cell_type": "code",
   "execution_count": 6,
   "metadata": {},
   "outputs": [
    {
     "data": {
      "text/plain": [
       "['kumar', 'trivedi', 'hafsf']"
      ]
     },
     "execution_count": 6,
     "metadata": {},
     "output_type": "execute_result"
    }
   ],
   "source": [
    "a.filter_long_words()"
   ]
  },
  {
   "cell_type": "markdown",
   "metadata": {},
   "source": [
    "Question 3: Write a Python program using function concept that maps list of words into a list of integers\n",
    "representing the lengths of the corresponding words.\n",
    "Hint: If a list [ ab,cde,erty] is passed on to the python function output should come as [2,3,4]\n",
    "Here 2,3 and 4 are the lengths of the words in the list."
   ]
  },
  {
   "cell_type": "code",
   "execution_count": 7,
   "metadata": {},
   "outputs": [
    {
     "data": {
      "text/plain": [
       "[3, 2, 4]"
      ]
     },
     "execution_count": 7,
     "metadata": {},
     "output_type": "execute_result"
    }
   ],
   "source": [
    "def length(lst):                      #Scripting\n",
    "    p=[]\n",
    "    for i in range(0,len(lst)):\n",
    "        p.append(len(lst[i]))\n",
    "    return p\n",
    "length([\"pra\",\"as\",\"fdsf\"])"
   ]
  },
  {
   "cell_type": "code",
   "execution_count": 8,
   "metadata": {},
   "outputs": [],
   "source": [
    "class leng():                          #OOP concept\n",
    "    def __init__(self,lst):\n",
    "        self.lst=lst\n",
    "        self.p=[]\n",
    "    def length(self):\n",
    "        for i in range(0,len(self.lst)):\n",
    "            self.p.append(len(self.lst[i]))\n",
    "        return self.p"
   ]
  },
  {
   "cell_type": "code",
   "execution_count": 9,
   "metadata": {},
   "outputs": [
    {
     "data": {
      "text/plain": [
       "[9, 3]"
      ]
     },
     "execution_count": 9,
     "metadata": {},
     "output_type": "execute_result"
    }
   ],
   "source": [
    "a=leng([\"fafsdfsds\",\"fsa\"])\n",
    "a.length()"
   ]
  },
  {
   "cell_type": "markdown",
   "metadata": {},
   "source": [
    "Question 4: Write a Python function which takes a character (i.e. a string of length 1) and returns True if\n",
    "it is a vowel, False otherwise."
   ]
  },
  {
   "cell_type": "code",
   "execution_count": 10,
   "metadata": {},
   "outputs": [
    {
     "name": "stdout",
     "output_type": "stream",
     "text": [
      "Please enter a character :u\n"
     ]
    },
    {
     "data": {
      "text/plain": [
       "True"
      ]
     },
     "execution_count": 10,
     "metadata": {},
     "output_type": "execute_result"
    }
   ],
   "source": [
    "v=[\"a\",\"e\",\"i\",\"o\",\"u\"]\n",
    "def test(c):\n",
    "    for i in range(0, len(v)):\n",
    "        if (c==v[i]):\n",
    "            return True\n",
    "        else:\n",
    "            continue\n",
    "    return False\n",
    "\n",
    "c=str(input(\"Please enter a character :\"))\n",
    "test(c)"
   ]
  },
  {
   "cell_type": "code",
   "execution_count": 11,
   "metadata": {},
   "outputs": [],
   "source": [
    "class vowel():                                        #OOP concept\n",
    "    def __init__(self,c):\n",
    "        self.v=[\"a\",\"e\",\"i\",\"o\",\"u\"]\n",
    "        self.c=c\n",
    "    def check_vowel(self):\n",
    "        for i in range(0, len(self.v)):\n",
    "            if (self.c==self.v[i]):\n",
    "                return True\n",
    "            else:\n",
    "                continue\n",
    "        return False"
   ]
  },
  {
   "cell_type": "code",
   "execution_count": 12,
   "metadata": {},
   "outputs": [
    {
     "name": "stdout",
     "output_type": "stream",
     "text": [
      "Please enter a character : a\n"
     ]
    }
   ],
   "source": [
    "a=vowel(str(input(\"Please enter a character : \")))\n"
   ]
  },
  {
   "cell_type": "code",
   "execution_count": 13,
   "metadata": {},
   "outputs": [
    {
     "data": {
      "text/plain": [
       "True"
      ]
     },
     "execution_count": 13,
     "metadata": {},
     "output_type": "execute_result"
    }
   ],
   "source": [
    "a.check_vowel()"
   ]
  },
  {
   "cell_type": "code",
   "execution_count": 14,
   "metadata": {},
   "outputs": [
    {
     "name": "stdout",
     "output_type": "stream",
     "text": [
      "Please enter a character : b\n"
     ]
    }
   ],
   "source": [
    "a=vowel(str(input(\"Please enter a character : \")))"
   ]
  },
  {
   "cell_type": "code",
   "execution_count": 15,
   "metadata": {},
   "outputs": [
    {
     "data": {
      "text/plain": [
       "False"
      ]
     },
     "execution_count": 15,
     "metadata": {},
     "output_type": "execute_result"
    }
   ],
   "source": [
    "a.check_vowel()"
   ]
  }
 ],
 "metadata": {
  "kernelspec": {
   "display_name": "Python 3",
   "language": "python",
   "name": "python3"
  },
  "language_info": {
   "codemirror_mode": {
    "name": "ipython",
    "version": 3
   },
   "file_extension": ".py",
   "mimetype": "text/x-python",
   "name": "python",
   "nbconvert_exporter": "python",
   "pygments_lexer": "ipython3",
   "version": "3.7.6"
  }
 },
 "nbformat": 4,
 "nbformat_minor": 4
}
